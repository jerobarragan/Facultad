{
 "cells": [
  {
   "cell_type": "markdown",
   "id": "6b2ece95",
   "metadata": {},
   "source": [
    "## Trabajo práctico 2.\n",
    "\n",
    "Jerónimo Barragán. LU: 1472/21.\n",
    "Manuel Max Gonzalez. LU: 1229/21."
   ]
  },
  {
   "cell_type": "markdown",
   "id": "ce652193",
   "metadata": {},
   "source": [
    "Importamos las librerías que vamos a usar."
   ]
  },
  {
   "cell_type": "code",
   "execution_count": 1,
   "id": "9ca0cf0e",
   "metadata": {},
   "outputs": [],
   "source": [
    "import numpy as np\n",
    "import matplotlib.pyplot as plt"
   ]
  },
  {
   "cell_type": "markdown",
   "id": "2ce30466",
   "metadata": {},
   "source": [
    "## Ejercicio 1"
   ]
  },
  {
   "cell_type": "code",
   "execution_count": 2,
   "id": "a51a163e",
   "metadata": {},
   "outputs": [],
   "source": [
    "def metodoDelDescenso(A, b, x0, N):\n",
    "    x = x0\n",
    "    errores = np.array([])\n",
    "    for i in range(0,N):\n",
    "        r = b-A@x\n",
    "        t = (r@r)/(r@A@r)\n",
    "        x = x + t*r\n",
    "        error = np.linalg.norm(b-A@x)\n",
    "        errores = np.append(errores, error)\n",
    "    return([x, errores])"
   ]
  },
  {
   "cell_type": "markdown",
   "id": "5a214f85",
   "metadata": {},
   "source": [
    "## Ejercicio 2"
   ]
  },
  {
   "cell_type": "code",
   "execution_count": 3,
   "id": "a895a5af",
   "metadata": {},
   "outputs": [
    {
     "data": {
      "text/plain": [
       "Text(0, 0.5, 'Error')"
      ]
     },
     "execution_count": 3,
     "metadata": {},
     "output_type": "execute_result"
    },
    {
     "data": {
      "image/png": "[encoded data removed]",
      "text/plain": [
       "<Figure size 432x288 with 1 Axes>"
      ]
     },
     "metadata": {
      "needs_background": "light"
     },
     "output_type": "display_data"
    }
   ],
   "source": [
    "M = np.random.rand(10, 10)\n",
    "A = (np.transpose(M)@M) + np.identity(10)\n",
    "b = np.random.rand(10)\n",
    "x0 = np.random.rand(10)\n",
    "\n",
    "metodo = metodoDelDescenso(A,b,x0,20)\n",
    "errores = metodo[1]\n",
    "plt.plot(errores)\n",
    "plt.xlabel(\"Cantidad de iteraciones\")\n",
    "plt.ylabel(\"Error\")"
   ]
  },
  {
   "cell_type": "markdown",
   "id": "5d7fd10f",
   "metadata": {},
   "source": [
    "## Ejercicio 3"
   ]
  },
  {
   "cell_type": "code",
   "execution_count": 4,
   "id": "5718f855",
   "metadata": {},
   "outputs": [],
   "source": [
    "def gramSchmidt(d, v, A):\n",
    "    u = v\n",
    "    for i in range(0, len(d)):\n",
    "        di = d[i]\n",
    "        u = u - ((v@A@di)/(di@A@di))*di\n",
    "    return (u)"
   ]
  },
  {
   "cell_type": "markdown",
   "id": "59ee71ee",
   "metadata": {},
   "source": [
    "## Ejercicio 4"
   ]
  },
  {
   "cell_type": "code",
   "execution_count": 5,
   "id": "d1832a5e",
   "metadata": {},
   "outputs": [],
   "source": [
    "def gradienteConjugado(A, x0, b, n):\n",
    "    x = x0\n",
    "    d = []\n",
    "    errores = np.array([])\n",
    "    for i in range(0, n):\n",
    "        r = b - A@x\n",
    "        r1 = gramSchmidt(d, r, A)\n",
    "        t = (r1@r)/(r1@A@r1)\n",
    "        x = x + t*r1\n",
    "        d.append(r1)\n",
    "        error = np.linalg.norm(b-A@x)\n",
    "        errores = np.append(errores, error)\n",
    "    return ([x, errores])"
   ]
  },
  {
   "cell_type": "markdown",
   "id": "6c526bb2",
   "metadata": {},
   "source": [
    "## Ejercicio 5"
   ]
  },
  {
   "cell_type": "code",
   "execution_count": 6,
   "id": "9841c3dc",
   "metadata": {},
   "outputs": [
    {
     "data": {
      "text/plain": [
       "Text(0, 0.5, 'Error')"
      ]
     },
     "execution_count": 6,
     "metadata": {},
     "output_type": "execute_result"
    },
    {
     "data": {
      "image/png": "[encoded data removed]",
      "text/plain": [
       "<Figure size 432x288 with 1 Axes>"
      ]
     },
     "metadata": {
      "needs_background": "light"
     },
     "output_type": "display_data"
    }
   ],
   "source": [
    "errores_gc = gradienteConjugado(A,b,x0,20)[1]\n",
    "plt.plot(errores_gc)\n",
    "plt.xlabel(\"Cantidad de iteraciones\")\n",
    "plt.ylabel(\"Error\")"
   ]
  },
  {
   "cell_type": "markdown",
   "id": "23afac68",
   "metadata": {},
   "source": [
    "Podemos ver que en el método del gradiente conjugado, el error converge a 0 en menos de 10 iteraciones, mientras que en el método del descenso, el error disminuye más lentamente, y no llega a valer 0 tras las primeras 20 iteraciones.  Por lo tanto, para resolver un sistema de ecuaciones lineales, resulta más eficiente el método del gradiente conjugado."
   ]
  },
  {
   "cell_type": "code",
   "execution_count": null,
   "id": "64dab306",
   "metadata": {},
   "outputs": [],
   "source": []
  }
 ],
 "metadata": {
  "kernelspec": {
   "display_name": "Python 3 (ipykernel)",
   "language": "python",
   "name": "python3"
  },
  "language_info": {
   "codemirror_mode": {
    "name": "ipython",
    "version": 3
   },
   "file_extension": ".py",
   "mimetype": "text/x-python",
   "name": "python",
   "nbconvert_exporter": "python",
   "pygments_lexer": "ipython3",
   "version": "3.9.12"
  }
 },
 "nbformat": 4,
 "nbformat_minor": 5
}
