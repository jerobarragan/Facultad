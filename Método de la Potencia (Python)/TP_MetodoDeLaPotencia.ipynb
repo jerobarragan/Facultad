{
 "cells": [
  {
   "cell_type": "markdown",
   "id": "f1af4361",
   "metadata": {},
   "source": [
    "## Trabajo práctico 1.\n",
    "\n",
    "Jerónimo Barragán. LU: 1472/21.\n",
    "Manuel Max Gonzalez. Lu: 1229/21."
   ]
  },
  {
   "cell_type": "markdown",
   "id": "f70cc0c5",
   "metadata": {},
   "source": [
    "Importamos las librerías que vamos a usar."
   ]
  },
  {
   "cell_type": "code",
   "execution_count": 2,
   "id": "f9531f0a",
   "metadata": {},
   "outputs": [],
   "source": [
    "import numpy as np\n",
    "import scipy as sc\n",
    "import matplotlib.pyplot as plt\n",
    "from scipy.linalg import null_space"
   ]
  },
  {
   "cell_type": "markdown",
   "id": "9b2d2602",
   "metadata": {},
   "source": [
    "## Ejercicio 1"
   ]
  },
  {
   "cell_type": "markdown",
   "id": "fe8e6c82",
   "metadata": {},
   "source": [
    "Definimos la función pedida."
   ]
  },
  {
   "cell_type": "code",
   "execution_count": 2,
   "id": "32177bc3",
   "metadata": {},
   "outputs": [],
   "source": [
    "#A debe ser cuadrada, diagonalizable y tener un único autovalor de módulo máximo.\n",
    "def metodoDeLaPotencia(A, k):\n",
    "    res = np.array([])\n",
    "    size = len(A)\n",
    "    v = np.random.rand(size)\n",
    "    m = v / np.linalg.norm(v, 2)\n",
    "    for i in range(k):\n",
    "        m = A@m\n",
    "        m = m / np.linalg.norm(m, 2)\n",
    "        r_k = (m@(A@m))/(m@m)\n",
    "        res = np.append(res, r_k)\n",
    "    return(res)"
   ]
  },
  {
   "cell_type": "markdown",
   "id": "363ed7b4",
   "metadata": {},
   "source": [
    "Para verificar resultados, definimos una función que calcula el autovalor de módulo máximo de una matriz cuadrada A. "
   ]
  },
  {
   "cell_type": "code",
   "execution_count": 3,
   "id": "059a86ea",
   "metadata": {},
   "outputs": [],
   "source": [
    "def avalDeModuloMax(A):\n",
    "    avals = np.linalg.eigvals(A)\n",
    "    absAvalDeModuloMax = np.linalg.norm(avals, np.inf)\n",
    "    return(avals[abs(avals) == absAvalDeModuloMax])"
   ]
  },
  {
   "cell_type": "markdown",
   "id": "fb293c9f",
   "metadata": {},
   "source": [
    "Acá creamos una matriz aleatoria $M \\in \\mathbb{R}^{3x3}$ y probamos aplicar el método de la potencia realizando 100 iteraciones, y comparamos con el autovalor de módulo máximo. "
   ]
  },
  {
   "cell_type": "code",
   "execution_count": 4,
   "id": "a512f57b",
   "metadata": {
    "scrolled": true
   },
   "outputs": [
    {
     "name": "stdout",
     "output_type": "stream",
     "text": [
      "Método de la potencia:  [1.53996717 1.53824272 1.53784775 1.53762806 1.53766443 1.53765063\n",
      " 1.5376545  1.53765332 1.53765367 1.53765356 1.53765359 1.53765359\n",
      " 1.53765359 1.53765359 1.53765359 1.53765359 1.53765359 1.53765359\n",
      " 1.53765359 1.53765359 1.53765359 1.53765359 1.53765359 1.53765359\n",
      " 1.53765359 1.53765359 1.53765359 1.53765359 1.53765359 1.53765359\n",
      " 1.53765359 1.53765359 1.53765359 1.53765359 1.53765359 1.53765359\n",
      " 1.53765359 1.53765359 1.53765359 1.53765359 1.53765359 1.53765359\n",
      " 1.53765359 1.53765359 1.53765359 1.53765359 1.53765359 1.53765359\n",
      " 1.53765359 1.53765359 1.53765359 1.53765359 1.53765359 1.53765359\n",
      " 1.53765359 1.53765359 1.53765359 1.53765359 1.53765359 1.53765359\n",
      " 1.53765359 1.53765359 1.53765359 1.53765359 1.53765359 1.53765359\n",
      " 1.53765359 1.53765359 1.53765359 1.53765359 1.53765359 1.53765359\n",
      " 1.53765359 1.53765359 1.53765359 1.53765359 1.53765359 1.53765359\n",
      " 1.53765359 1.53765359 1.53765359 1.53765359 1.53765359 1.53765359\n",
      " 1.53765359 1.53765359 1.53765359 1.53765359 1.53765359 1.53765359\n",
      " 1.53765359 1.53765359 1.53765359 1.53765359 1.53765359 1.53765359\n",
      " 1.53765359 1.53765359 1.53765359 1.53765359]\n",
      "Autovalor de módulo máximo:  [1.53765359]\n"
     ]
    }
   ],
   "source": [
    "M = np.random.random((3,3))\n",
    "avalModMax = avalDeModuloMax(M)\n",
    "print(\"Método de la potencia: \", metodoDeLaPotencia(M, 100))\n",
    "print(\"Autovalor de módulo máximo: \", avalModMax)"
   ]
  },
  {
   "cell_type": "markdown",
   "id": "2ba9252e",
   "metadata": {},
   "source": [
    "En general, el método parece converger al autovalor de módulo máximo, pero puede fallar cuando generamos matrices aleatorias que casualmente no son diagonalizables, no haya un único autovalor de módulo máximo, o la escritura del vector aleatorio $v^{(0)}$ (generado al inicio en la implementación del método) en una base de autovectores tenga coeficiente nulo asociado al autovector de autovalor de módulo máximo. Igualmente, son casos muy particulares que tienen pocas chances de ocurrir."
   ]
  },
  {
   "cell_type": "markdown",
   "id": "bbe87424",
   "metadata": {},
   "source": [
    "## Ejercicio 2"
   ]
  },
  {
   "cell_type": "markdown",
   "id": "5dd7825a",
   "metadata": {},
   "source": [
    "Generamos una matriz aleatoria $A \\in \\mathbb{R} ^{100x100}$. \n",
    "Aplicamos el método de la potencia a la matriz $A$ con 100 iteraciones, obteniendo un vector que en la posición $k$ contiene la aproximación (al autovalor de módulo máximo de A) obtenida luego de $k$ iteraciones.\n",
    "Como la matriz $A$ generada aleatoriamente podría tener como autovalor de módulo máximo un número complejo que no sea real, graficamos las aproximaciones hacia el módulo del autovalor de módulo máximo, en función del número de iteraciones."
   ]
  },
  {
   "cell_type": "code",
   "execution_count": 5,
   "id": "a491af50",
   "metadata": {},
   "outputs": [
    {
     "data": {
      "text/plain": [
       "<matplotlib.legend.Legend at 0x205304def70>"
      ]
     },
     "execution_count": 5,
     "metadata": {},
     "output_type": "execute_result"
    },
    {
     "data": {
      "image/png": "[encoded data removed]",
      "text/plain": [
       "<Figure size 432x288 with 1 Axes>"
      ]
     },
     "metadata": {
      "needs_background": "light"
     },
     "output_type": "display_data"
    }
   ],
   "source": [
    "A = np.random.random((100, 100))\n",
    "aproxs = metodoDeLaPotencia(A, 100)\n",
    "aval = avalDeModuloMax(A)\n",
    "plt.plot(abs(aproxs), color = \"green\", alpha = 1, label = \"Módulo de la aproximación\")\n",
    "plt.plot(np.arange(1,101,1), [abs(aval)]*100, color = \"red\", label = \"Módulo del autovalor de módulo máximo\", alpha = 0.4, linewidth = 3)\n",
    "plt.xlabel(\"Cantidad de iteraciones\")\n",
    "plt.legend()"
   ]
  },
  {
   "cell_type": "markdown",
   "id": "919c8bbd",
   "metadata": {},
   "source": [
    "Creemos que el método converge rápidamente dado que, en general, en menos de 10 iteraciones el gráfico sube abruptamente y se estanca sobre la recta horizontal correspondiente al módulo del autovalor de módulo máximo calculado con numpy. Como el autovalor de módulo máximo es único, la convergencia hacia el módulo del mismo garantiza la convergencia hacia el autovalor en sí."
   ]
  },
  {
   "cell_type": "markdown",
   "id": "d576c333",
   "metadata": {},
   "source": [
    "## Ejercicio 3"
   ]
  },
  {
   "cell_type": "markdown",
   "id": "6801584e",
   "metadata": {},
   "source": [
    "Definimos la matriz $B$ pedida y aplicamos el método de la potencia 100 veces."
   ]
  },
  {
   "cell_type": "code",
   "execution_count": 6,
   "id": "91173405",
   "metadata": {},
   "outputs": [],
   "source": [
    "C = np.random.random((100, 100))\n",
    "Ctrans = C.transpose()\n",
    "A = (C + Ctrans)/2\n",
    "B = A + 500*np.identity(100)\n",
    "avalModMaxB = avalDeModuloMax(B)\n",
    "mp = metodoDeLaPotencia(B, 100)"
   ]
  },
  {
   "cell_type": "markdown",
   "id": "c93bca12",
   "metadata": {},
   "source": [
    "Graficamos los errores en función del número de iteración."
   ]
  },
  {
   "cell_type": "code",
   "execution_count": 7,
   "id": "95f4f41d",
   "metadata": {},
   "outputs": [
    {
     "data": {
      "text/plain": [
       "[<matplotlib.lines.Line2D at 0x205305ede50>]"
      ]
     },
     "execution_count": 7,
     "metadata": {},
     "output_type": "execute_result"
    },
    {
     "data": {
      "image/png": "[encoded data removed]",
      "text/plain": [
       "<Figure size 432x288 with 1 Axes>"
      ]
     },
     "metadata": {
      "needs_background": "light"
     },
     "output_type": "display_data"
    }
   ],
   "source": [
    "def vectorErrores (B):\n",
    "    errores = np.array([])\n",
    "    aproxs = metodoDeLaPotencia(B, 100)\n",
    "    size = len(aproxs)\n",
    "    for i in range(size): \n",
    "        errores = np.append(errores, abs(avalModMaxB - aproxs[i]))\n",
    "    return(errores)\n",
    "\n",
    "errores = vectorErrores(B)\n",
    "\n",
    "plt.xlabel(\"Cantidad de iteraciones\")\n",
    "plt.ylabel(\"Error\")\n",
    "plt.plot(errores)"
   ]
  },
  {
   "cell_type": "markdown",
   "id": "6331c2b7",
   "metadata": {},
   "source": [
    "Si el error en el paso inicial es $e_0$, y sabemos que en cada paso se multiplica por aproximadamente $(\\lambda_2 / \\lambda_1)^2$ (con $\\lambda_1$ y $\\lambda_2$ los autovalores de mayor y segundo mayor módulo, respectivamente), entonces la función graficada se parece a $f(x) = e_0 (\\lambda_2 ^2 / \\lambda_1 ^2)^x$, que es una exponencial con base menor que 1, y su gráfico tiene la pinta del obtenido arriba.\n",
    "\n",
    "Tomando $log(f(x))$, en cualquier base mayor que $1$ obtenemos una recta que crece si $f(x)$ lo hace, y decrece si no. La pendiente de esta recta resulta ser $2ln(\\lambda_2 / \\lambda_1)$ y nos da información acerca de qué tan rápido el error disminuye o aumenta (nos da información acerca de la velocidad de convergencia). Entonces, podemos tomar logaritmo natural a cada elemento del vector de errores y graficar la función obtenida."
   ]
  },
  {
   "cell_type": "code",
   "execution_count": 8,
   "id": "bed2523f",
   "metadata": {},
   "outputs": [
    {
     "data": {
      "text/plain": [
       "<matplotlib.legend.Legend at 0x20530667670>"
      ]
     },
     "execution_count": 8,
     "metadata": {},
     "output_type": "execute_result"
    },
    {
     "data": {
      "image/png": "[encoded data removed]",
      "text/plain": [
       "<Figure size 432x288 with 1 Axes>"
      ]
     },
     "metadata": {
      "needs_background": "light"
     },
     "output_type": "display_data"
    }
   ],
   "source": [
    "#np.log calcula logaritmo natural.\n",
    "logErrores = np.log(errores)\n",
    "plt.plot(logErrores, color = \"red\", label = \"$ln(e_i)$\")\n",
    "\n",
    "v = np.array([])\n",
    "avals = np.linalg.eigvals(B)\n",
    "absAvals = sorted(abs(avals))\n",
    "aval1 = avals[abs(avals) == (absAvals[len(avals)-1])]\n",
    "aval2 = avals[abs(avals) == (absAvals[len(avals)-2])]\n",
    "pendiente = 2*np.log(aval2/aval1)\n",
    "for i in range(len(logErrores)):\n",
    "    v = np.append(v, pendiente*i+logErrores[0])\n",
    "    \n",
    "plt.plot(v, color = \"green\", alpha = 1, label = \"$2.ln(λ_2/λ_1)x + ln(e_0)$\")\n",
    "plt.xlabel(\"Cantidad de iteraciones\")\n",
    "plt.legend()"
   ]
  },
  {
   "cell_type": "markdown",
   "id": "99f53b83",
   "metadata": {},
   "source": [
    "Vemos que graficando $ln(e_i)$ (donde $e_i$ es el error obtenido en el paso $i$-ésimo) obtenemos una recta decreciente, lo cual tiene sentido porque esperamos que el error en cada paso disminuya, es decir, que el método de la potencia converja efectivamente. Comparando la recta verde con la roja, vemos que sus pendientes son bastante similares dado que se superponen considerablemente: esto quiere decir que la pendiente de la recta roja es aproximadamente la esperada."
   ]
  },
  {
   "cell_type": "markdown",
   "id": "bfea9e60",
   "metadata": {},
   "source": [
    "## Ejercicio 4"
   ]
  },
  {
   "cell_type": "markdown",
   "id": "34edd41f",
   "metadata": {},
   "source": [
    "Repetimos el experimento para las matrices pedidas."
   ]
  },
  {
   "cell_type": "code",
   "execution_count": 9,
   "id": "8abb1eb2",
   "metadata": {},
   "outputs": [
    {
     "data": {
      "text/plain": [
       "<matplotlib.legend.Legend at 0x20530625340>"
      ]
     },
     "execution_count": 9,
     "metadata": {},
     "output_type": "execute_result"
    },
    {
     "data": {
      "image/png": "[encoded data removed]",
      "text/plain": [
       "<Figure size 432x288 with 1 Axes>"
      ]
     },
     "metadata": {
      "needs_background": "light"
     },
     "output_type": "display_data"
    }
   ],
   "source": [
    "ks = [1000,2000,5000]\n",
    "colores = ['#fac205', '#fc5a50', '#ff00ff']\n",
    "for i in range(0, len(ks)):\n",
    "    k = ks[i]\n",
    "    B = A + k*np.identity(100)\n",
    "    avalModMaxB = avalDeModuloMax(B)\n",
    "    errores = vectorErrores(B)\n",
    "    logErrores = np.log(errores)\n",
    "    plt.plot(logErrores, color = colores[i], label = (\"k=\" + str(k)))\n",
    "\n",
    "    #Graficamos también, con el mismo color pero más claro, la recta esperada.\n",
    "    v = np.array([])\n",
    "    avals = np.linalg.eigvals(B)\n",
    "    absAvals = sorted(abs(avals))\n",
    "    aval1 = avals[abs(avals) == (absAvals[len(avals)-1])]\n",
    "    aval2 = avals[abs(avals) == (absAvals[len(avals)-2])]\n",
    "    pendiente = 2*np.log(aval2/aval1)\n",
    "    for j in range(len(logErrores)):\n",
    "        v = np.append(v, pendiente*j+logErrores[0])\n",
    "    \n",
    "    plt.plot(v, color = colores[i], alpha = 0.4)  \n",
    "\n",
    "plt.xlabel(\"Cantidad de iteraciones\")\n",
    "plt.ylabel(\"Logaritmo natural del error\")\n",
    "plt.legend()    "
   ]
  },
  {
   "cell_type": "markdown",
   "id": "44a50d94",
   "metadata": {},
   "source": [
    "Sabemos que si $\\alpha_1, ..., \\alpha_n$ son los autovalores de $A \\in \\mathbb{R}^{nxn}$, entonces $\\alpha_1+ k, ..., \\alpha_n + k$ \n",
    "son los autovalores de $A + kI$, con $k\\in \\mathbb{R}$. Como las matrices de la forma $B=(1/2)*(C+C^T) + 500I$ para $C \\in \\mathbb{R}^{100x100}$ son en casi todos los casos positivas definidas, con $\\lambda_1$ y $\\lambda_2$ sus autovalores de mayor y segundo mayor módulo respectivamente, podemos asumir que $\\lambda_1$ y $\\lambda_2$ son positivos y, por consiguiente, que $\\lambda_1 + k$ y $\\lambda_2 + k$ son los autovalores de mayor y segundo mayor módulo de la matriz $B+ kI$. \n",
    "Dado que ya vimos que la velocidad de convergencia de las matrices analizadas está dada por $ln((\\lambda_2 + k) / (\\lambda_1 + k))$, mientras mayor sea el $k$, el cociente se apróximará más a $1$ y, por ende, el logaritmo se apróximará más a $0$. En conclusión, a mayor $k$, menor será la velocidad de convergencia del método de la potencia para $B + kI$, porque la pendiente del logaritmo de los errores se parecerá más a cero."
   ]
  }
 ],
 "metadata": {
  "kernelspec": {
   "display_name": "Python 3 (ipykernel)",
   "language": "python",
   "name": "python3"
  },
  "language_info": {
   "codemirror_mode": {
    "name": "ipython",
    "version": 3
   },
   "file_extension": ".py",
   "mimetype": "text/x-python",
   "name": "python",
   "nbconvert_exporter": "python",
   "pygments_lexer": "ipython3",
   "version": "3.9.12"
  }
 },
 "nbformat": 4,
 "nbformat_minor": 5
}
